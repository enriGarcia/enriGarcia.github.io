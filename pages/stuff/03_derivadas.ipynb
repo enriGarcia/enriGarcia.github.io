{
 "cells": [
  {
   "cell_type": "code",
   "execution_count": 15,
   "id": "95b65b91",
   "metadata": {},
   "outputs": [],
   "source": [
    "from sympy import *\n",
    "sympy.init_printing()"
   ]
  },
  {
   "cell_type": "code",
   "execution_count": 16,
   "id": "a4b24f25",
   "metadata": {},
   "outputs": [],
   "source": [
    "x, y = symbols('x y')\n",
    "y = (x**2)/(4-x**2)\n",
    "yp = diff(y, x)"
   ]
  },
  {
   "cell_type": "code",
   "execution_count": 17,
   "id": "941962d6",
   "metadata": {},
   "outputs": [
    {
     "data": {
      "image/png": "[encoded data removed]",
      "text/latex": [
       "$\\displaystyle \\frac{8 x}{\\left(x^{2} - 4\\right)^{2}}$"
      ],
      "text/plain": [
       "   8⋅x   \n",
       "─────────\n",
       "        2\n",
       "⎛ 2    ⎞ \n",
       "⎝x  - 4⎠ "
      ]
     },
     "execution_count": 17,
     "metadata": {},
     "output_type": "execute_result"
    }
   ],
   "source": [
    "simplify(yp)"
   ]
  },
  {
   "cell_type": "code",
   "execution_count": null,
   "id": "26cc2ea7",
   "metadata": {},
   "outputs": [],
   "source": []
  }
 ],
 "metadata": {
  "kernelspec": {
   "display_name": "Python 3",
   "language": "python",
   "name": "python3"
  },
  "language_info": {
   "codemirror_mode": {
    "name": "ipython",
    "version": 3
   },
   "file_extension": ".py",
   "mimetype": "text/x-python",
   "name": "python",
   "nbconvert_exporter": "python",
   "pygments_lexer": "ipython3",
   "version": "3.6.8"
  }
 },
 "nbformat": 4,
 "nbformat_minor": 5
}
