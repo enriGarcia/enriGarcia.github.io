{
 "cells": [
  {
   "cell_type": "code",
   "execution_count": 32,
   "metadata": {},
   "outputs": [],
   "source": [
    "from sympy import *"
   ]
  },
  {
   "cell_type": "code",
   "execution_count": 33,
   "metadata": {},
   "outputs": [],
   "source": [
    "def calcNewton(f, df, xn):\n",
    "    return [N(f.subs(x, xn)), N(df.subs(x, xn)), N(xn - (f.subs(x, xn)/df.subs(x, xn)))]"
   ]
  },
  {
   "cell_type": "code",
   "execution_count": 34,
   "metadata": {},
   "outputs": [
    {
     "data": {
      "image/png": "[encoded data removed]",
      "text/latex": [
       "$\\displaystyle - x + \\cos{\\left(x \\right)}$"
      ],
      "text/plain": [
       "-x + cos(x)"
      ]
     },
     "metadata": {},
     "output_type": "display_data"
    },
    {
     "name": "stdout",
     "output_type": "stream",
     "text": [
      "n \t xn \t\t f(xn) \t\t f'(xn) \t xn+1\n",
      "0 \t 1.000000000 \t -0.459697694 \t -1.841470985 \t 0.750363868\n",
      "1 \t 0.750363868 \t -0.018923074 \t -1.681904953 \t 0.739112891\n",
      "2 \t 0.739112891 \t -0.000046456 \t -1.673632544 \t 0.739085133\n",
      "3 \t 0.739085133 \t -0.000000000 \t -1.673612029 \t 0.739085133\n"
     ]
    }
   ],
   "source": [
    "x0 = 1.0\n",
    "x = symbols(\"x\")\n",
    "f = cos(x) - x\n",
    "iteraciones = 4\n",
    "df = f.diff(x)\n",
    "init_printing()\n",
    "\n",
    "display(f)\n",
    "print(\"n \\t xn \\t\\t f(xn) \\t\\t f'(xn) \\t xn+1\")\n",
    "xn = x0\n",
    "for n in range(iteraciones):\n",
    "    xn1 = calcNewton(f, df, xn)\n",
    "    print(\"%d \\t %0.9f \\t %0.9f \\t %0.9f \\t %0.9f\" %(n, xn, xn1[0], xn1[1], xn1[2]))\n",
    "    xn = xn1[2]"
   ]
  }
 ],
 "metadata": {
  "kernelspec": {
   "display_name": "usr",
   "language": "python",
   "name": "python3"
  },
  "language_info": {
   "codemirror_mode": {
    "name": "ipython",
    "version": 3
   },
   "file_extension": ".py",
   "mimetype": "text/x-python",
   "name": "python",
   "nbconvert_exporter": "python",
   "pygments_lexer": "ipython3",
   "version": "3.10.12"
  }
 },
 "nbformat": 4,
 "nbformat_minor": 2
}
